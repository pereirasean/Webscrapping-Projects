{
 "cells": [
  {
   "cell_type": "code",
   "execution_count": 2,
   "metadata": {},
   "outputs": [
    {
     "name": "stdout",
     "output_type": "stream",
     "text": [
      "[<div class=\"summ\"><a href=\"/java/Warmup-1\"><span class=\"h2\">Warmup-1</span></a> <img src=\"/s1.jpg\"/><img src=\"/s1.jpg\"/><img src=\"/s1.jpg\"/><img src=\"/s1.jpg\"/><img src=\"/s1.jpg\"/><img src=\"/s1.jpg\"/><img src=\"/s1.jpg\"/><img src=\"/s1.jpg\"/><br/>Simple warmup problems to get started (solutions available)<br/><img src=\"/c1.jpg\"/></div>, <div class=\"summ\"><a href=\"/java/Warmup-2\"><span class=\"h2\">Warmup-2</span></a> <img src=\"/s1.jpg\"/><img src=\"/s1.jpg\"/><img src=\"/s1.jpg\"/><img src=\"/s1.jpg\"/><img src=\"/s1.jpg\"/><img src=\"/s1.jpg\"/><br/>Medium warmup string/array loops  (solutions available)<br/><img src=\"/c1.jpg\"/></div>, <div class=\"summ\"><a href=\"/java/String-1\"><span class=\"h2\">String-1</span></a> <img src=\"/s1.jpg\"/><img src=\"/s1.jpg\"/><img src=\"/s1.jpg\"/><img src=\"/s1.jpg\"/><img src=\"/s1.jpg\"/><img src=\"/s1.jpg\"/><img src=\"/s1.jpg\"/><img src=\"/s1.jpg\"/><br/>Basic string problems -- no loops<br/><img src=\"/c1.jpg\"/></div>, <div class=\"summ\"><a href=\"/java/Array-1\"><span class=\"h2\">Array-1</span></a> <img src=\"/s1.jpg\"/><img src=\"/s1.jpg\"/><img src=\"/s1.jpg\"/><img src=\"/s1.jpg\"/><img src=\"/s1.jpg\"/><img src=\"/s1.jpg\"/><img src=\"/s1.jpg\"/><img src=\"/s1.jpg\"/><br/>Basic array problems -- no loops.<br/><img src=\"/c1.jpg\"/></div>, <div class=\"summ\"><a href=\"/java/Logic-1\"><span class=\"h2\">Logic-1</span></a> <img src=\"/s1.jpg\"/><img src=\"/s1.jpg\"/><img src=\"/s1.jpg\"/><img src=\"/s1.jpg\"/><img src=\"/s1.jpg\"/><img src=\"/s1.jpg\"/><img src=\"/s1.jpg\"/><img src=\"/s1.jpg\"/><br/>Basic boolean logic puzzles -- if else &amp;&amp; || !<br/><img src=\"/c1.jpg\"/></div>, <div class=\"summ\"><a href=\"/java/Logic-2\"><span class=\"h2\">Logic-2</span></a> <img src=\"/s1.jpg\"/><img src=\"/s1.jpg\"/><img src=\"/s1.jpg\"/><br/>Medium boolean logic puzzles -- if else &amp;&amp; || !<br/><img src=\"/c1.jpg\"/></div>, <div class=\"summ\"><a href=\"/java/String-2\"><span class=\"h2\">String-2</span></a> <img src=\"/s1.jpg\"/><img src=\"/s1.jpg\"/><img src=\"/s1.jpg\"/><img src=\"/s1.jpg\"/><img src=\"/s1.jpg\"/><img src=\"/s1.jpg\"/><img src=\"/s1.jpg\"/><br/>Medium String problems -- 1 loop<br/><img src=\"/c1.jpg\"/></div>, <div class=\"summ\"><a href=\"/java/String-3\"><span class=\"h2\">String-3</span></a> <img src=\"/s1.jpg\"/><img src=\"/s1.jpg\"/><img src=\"/s1.jpg\"/><img src=\"/s1.jpg\"/><br/>  Harder String problems -- 2 loops<br/><img src=\"/c1.jpg\"/></div>, <div class=\"summ\"><a href=\"/java/Array-2\"><span class=\"h2\">Array-2</span></a> <img src=\"/s1.jpg\"/><img src=\"/s1.jpg\"/><img src=\"/s1.jpg\"/><img src=\"/s1.jpg\"/><img src=\"/s1.jpg\"/><img src=\"/s1.jpg\"/><img src=\"/s1.jpg\"/><img src=\"/s1.jpg\"/><br/>  Medium array problems -- 1 loop<br/><img src=\"/c1.jpg\"/></div>, <div class=\"summ\"><a href=\"/java/Array-3\"><span class=\"h2\">Array-3</span></a> <img src=\"/s1.jpg\"/><img src=\"/s1.jpg\"/><img src=\"/s1.jpg\"/><br/>  Harder array problems -- 2 loops, more complex logic<br/><img src=\"/c1.jpg\"/></div>, <div class=\"summ\"><a href=\"/java/AP-1\"><span class=\"h2\">AP-1</span></a> <img src=\"/s1.jpg\"/><img src=\"/s1.jpg\"/><img src=\"/s1.jpg\"/><img src=\"/s1.jpg\"/><img src=\"/s1.jpg\"/><img src=\"/s1.jpg\"/><img src=\"/s1.jpg\"/><br/>  AP CS medium problems<br/><img src=\"/c1.jpg\"/></div>, <div class=\"summ\"><a href=\"/java/Recursion-1\"><span class=\"h2\">Recursion-1</span></a> <img src=\"/s1.jpg\"/><img src=\"/s1.jpg\"/><img src=\"/s1.jpg\"/><img src=\"/s1.jpg\"/><img src=\"/s1.jpg\"/><img src=\"/s1.jpg\"/><img src=\"/s1.jpg\"/><img src=\"/s1.jpg\"/><br/>Basic recursion problems<br/><img src=\"/c1.jpg\"/></div>, <div class=\"summ\"><a href=\"/java/Recursion-2\"><span class=\"h2\">Recursion-2</span></a> <img src=\"/s1.jpg\"/><img src=\"/s1.jpg\"/><img src=\"/s1.jpg\"/><br/>Harder recursion problems<br/><img src=\"/c1.jpg\"/></div>, <div class=\"summ\"><a href=\"/java/Map-1\"><span class=\"h2\">Map-1</span></a> <img src=\"/s1.jpg\"/><img src=\"/s1.jpg\"/><img src=\"/s1.jpg\"/><br/>  Basic Map get()/put(), no loops<br/><img src=\"/c1.jpg\"/></div>, <div class=\"summ\"><a href=\"/java/Map-2\"><span class=\"h2\">Map-2</span></a> <img src=\"/s1.jpg\"/><img src=\"/s1.jpg\"/><img src=\"/s1.jpg\"/><br/>  Maps with bulk data and loops<br/><img src=\"/c1.jpg\"/></div>, <div class=\"summ\"><a href=\"/java/Functional-1\"><span class=\"h2\">Functional-1</span></a> <img src=\"/s1.jpg\"/><img src=\"/s1.jpg\"/><img src=\"/s1.jpg\"/><br/>  Functional mapping operations on lists with lambdas<br/><img src=\"/c1.jpg\"/></div>, <div class=\"summ\"><a href=\"/java/Functional-2\"><span class=\"h2\">Functional-2</span></a> <img src=\"/s1.jpg\"/><img src=\"/s1.jpg\"/><img src=\"/s1.jpg\"/><br/>  Functional filtering and mapping operations on lists with lambdas<br/><img src=\"/c1.jpg\"/></div>]\n"
     ]
    }
   ],
   "source": [
    "from bs4 import BeautifulSoup\n",
    "import re\n",
    "import requests\n",
    "from fake_useragent import UserAgent\n",
    "\n",
    "\n",
    "\n",
    "user_agent=UserAgent()\n",
    "main_url='https://codingbat.com/java'\n",
    "page=requests.get(main_url,headers={'user-agent':user_agent.chrome})\n",
    "soup = BeautifulSoup(page.content,'lxml')\n",
    "\n",
    "all_divs = soup.find_all('div',class_='summ')\n",
    "print(all_divs)\n",
    "base_url='https://codingbat.com'\n",
    "inner_links={}\n",
    "all_links = [base_url+div.a['href'] for div in all_divs]\n",
    "for links in all_links:\n",
    "    inner_page =requests.get(links,headers={'user-agent':user_agent.chrome})\n",
    "    inner_soup= BeautifulSoup(inner_page.content,'lxml')\n",
    "    div = inner_soup.find('div',class_='tabc')\n",
    "    question = [base_url+td.a['href'] for td in div.table.find_all('td')]\n",
    "\n",
    "    for question_links in question:\n",
    "        final_page =requests.get(question_links)\n",
    "        final_soup= BeautifulSoup(final_page.content,'lxml')\n",
    "        indent_div = final_soup.find('div',attrs={'class':'indent'})\n",
    "        problem_stat= indent_div.table.div.string\n",
    "        \n",
    "        sib= indent_div.table.div.next_siblings\n",
    "        \n",
    "        print(problem_stat)\n",
    "\n",
    "        examples = [sibling for sibling in sib if sibling.string is not None]\n",
    "        for e in examples:\n",
    "            print(e)\n",
    "        \n",
    "        print('\\n\\n\\n')\n",
    "    \n",
    "\n",
    "\n",
    "    \n",
    "\n",
    "\n"
   ]
  },
  {
   "cell_type": "code",
   "execution_count": 96,
   "metadata": {},
   "outputs": [
    {
     "name": "stdout",
     "output_type": "stream",
     "text": [
      "Warmup-1   /java/Warmup-1\n",
      "Warmup-2   /java/Warmup-2\n",
      "String-1   /java/String-1\n",
      "Array-1   /java/Array-1\n",
      "Logic-1   /java/Logic-1\n",
      "Logic-2   /java/Logic-2\n",
      "String-2   /java/String-2\n",
      "String-3   /java/String-3\n",
      "Array-2   /java/Array-2\n",
      "Array-3   /java/Array-3\n",
      "AP-1   /java/AP-1\n",
      "Recursion-1   /java/Recursion-1\n",
      "Recursion-2   /java/Recursion-2\n",
      "Map-1   /java/Map-1\n",
      "Map-2   /java/Map-2\n",
      "Functional-1   /java/Functional-1\n",
      "Functional-2   /java/Functional-2\n"
     ]
    }
   ],
   "source": [
    "product_links = [div.a['href'] for div in all_divs]\n",
    "\n",
    "products={div.a.string: div.a['href'] for div in all_divs}\n",
    "\n",
    "\n",
    "# for link in product_links:\n",
    "#     print(link)\n",
    "\n",
    "for key,value in products.items():\n",
    "    print(key,\" \",value)"
   ]
  },
  {
   "cell_type": "code",
   "execution_count": null,
   "metadata": {},
   "outputs": [],
   "source": []
  }
 ],
 "metadata": {
  "kernelspec": {
   "display_name": "Python 3",
   "language": "python",
   "name": "python3"
  },
  "language_info": {
   "codemirror_mode": {
    "name": "ipython",
    "version": 3
   },
   "file_extension": ".py",
   "mimetype": "text/x-python",
   "name": "python",
   "nbconvert_exporter": "python",
   "pygments_lexer": "ipython3",
   "version": "3.8.3"
  }
 },
 "nbformat": 4,
 "nbformat_minor": 4
}
